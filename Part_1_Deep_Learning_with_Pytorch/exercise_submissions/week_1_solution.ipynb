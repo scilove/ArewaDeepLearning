{
  "cells": [
    {
      "cell_type": "markdown",
      "metadata": {
        "id": "view-in-github",
        "colab_type": "text"
      },
      "source": [
        "<a href=\"https://colab.research.google.com/github/scilove/ArewaDeepLearning/blob/main/Part_1_Deep_Learning_with_Pytorch/exercise_submissions/week_1_solution.ipynb\" target=\"_parent\"><img src=\"https://colab.research.google.com/assets/colab-badge.svg\" alt=\"Open In Colab\"/></a>"
      ]
    },
    {
      "cell_type": "markdown",
      "metadata": {
        "id": "Wg2DjcT-6mkF"
      },
      "source": [
        "## Arewa Data Science Academy\n",
        "### Deep Learning Cohort 2.0\n",
        "\n",
        "#### Name: Muyiwa Obadara\n",
        "#### Email: muyiwa.j.obadara@gmail.com\n",
        "#### Title: Week 1 Solution"
      ]
    },
    {
      "cell_type": "markdown",
      "metadata": {
        "id": "ComswgXs6mkK"
      },
      "source": [
        "### Exercises Solution"
      ]
    },
    {
      "cell_type": "code",
      "source": [
        "import torch"
      ],
      "metadata": {
        "id": "veszfKj87NRi"
      },
      "execution_count": 1,
      "outputs": []
    },
    {
      "cell_type": "markdown",
      "source": [
        "#### 2. Create a random tensor with shape (7, 7)"
      ],
      "metadata": {
        "id": "csIWhQdZ7arD"
      }
    },
    {
      "cell_type": "code",
      "execution_count": 5,
      "metadata": {
        "colab": {
          "base_uri": "https://localhost:8080/"
        },
        "id": "YLyiHPyT6mkM",
        "outputId": "db9aef81-08df-4552-84a1-e1c772293564"
      },
      "outputs": [
        {
          "output_type": "stream",
          "name": "stdout",
          "text": [
            "tensor([[0.7481, 0.7659, 0.6517, 0.2453, 0.6564, 0.6033, 0.6838],\n",
            "        [0.6910, 0.3596, 0.3533, 0.7965, 0.2192, 0.6559, 0.5773],\n",
            "        [0.4921, 0.7606, 0.8995, 0.1012, 0.0277, 0.9436, 0.0327],\n",
            "        [0.6026, 0.8919, 0.5979, 0.5715, 0.8086, 0.1390, 0.1390],\n",
            "        [0.9355, 0.9688, 0.0398, 0.5500, 0.9524, 0.3935, 0.0555],\n",
            "        [0.3787, 0.8589, 0.9380, 0.5898, 0.7836, 0.5803, 0.3994],\n",
            "        [0.2597, 0.0177, 0.9133, 0.3021, 0.8289, 0.2538, 0.1557]])\n"
          ]
        }
      ],
      "source": [
        "# Exercise 2 - Solution\n",
        "t_rand = torch.rand(7, 7)\n",
        "print(t_rand)"
      ]
    },
    {
      "cell_type": "markdown",
      "source": [
        "#### 3. Perform a matrix multiplication on the tensor from 2 with another random tensor with shape (1, 7) (hint: you may have to transpose the second tensor)."
      ],
      "metadata": {
        "id": "B_6YahEM8a6w"
      }
    },
    {
      "cell_type": "code",
      "source": [
        "# Create another random tensor\n",
        "t_rand2 = torch.rand(1, 7)\n",
        "\n",
        "# Perform matrix multiplication\n",
        "prod = torch.matmul(t_rand, t_rand2.T)\n",
        "print(prod)"
      ],
      "metadata": {
        "id": "zpWz5bXh8nNM",
        "outputId": "efd60202-45d7-4aec-bc71-35faceea8194",
        "colab": {
          "base_uri": "https://localhost:8080/"
        }
      },
      "execution_count": 6,
      "outputs": [
        {
          "output_type": "stream",
          "name": "stdout",
          "text": [
            "tensor([[1.8234],\n",
            "        [1.1525],\n",
            "        [1.4293],\n",
            "        [1.7035],\n",
            "        [1.9708],\n",
            "        [1.9026],\n",
            "        [0.9738]])\n"
          ]
        }
      ]
    },
    {
      "cell_type": "markdown",
      "source": [
        "#### 4. Set the random seed to 0 and do 2 & 3 over again."
      ],
      "metadata": {
        "id": "7YKpvCV29JPg"
      }
    },
    {
      "cell_type": "code",
      "source": [
        "# Set the manual seed\n",
        "torch.manual_seed(0)\n",
        "\n",
        "# Create two random tensors\n",
        "t_rand = torch.rand(7, 7)\n",
        "t_rand2 = torch.rand(1, 7)\n",
        "\n",
        "# Matrix multiply tensor\n",
        "prod = torch.matmul(t_rand, t_rand2.T)\n",
        "print(prod)"
      ],
      "metadata": {
        "id": "VaodVkZx9jRg",
        "outputId": "b3e5f374-8f6b-4f88-cae0-4b536c74a4fd",
        "colab": {
          "base_uri": "https://localhost:8080/"
        }
      },
      "execution_count": 8,
      "outputs": [
        {
          "output_type": "stream",
          "name": "stdout",
          "text": [
            "tensor([[1.8542],\n",
            "        [1.9611],\n",
            "        [2.2884],\n",
            "        [3.0481],\n",
            "        [1.7067],\n",
            "        [2.5290],\n",
            "        [1.7989]])\n"
          ]
        }
      ]
    },
    {
      "cell_type": "markdown",
      "source": [
        "#### 5. Speaking of random seeds, we saw how to set it with `torch.manual_seed()` but is there a GPU equivalent? (hint: you'll need to look into the documentation for torch.cuda for this one)\n",
        "\n",
        "- If there is, set the GPU random seed to 1234."
      ],
      "metadata": {
        "id": "G66z7VPu-Bv9"
      }
    },
    {
      "cell_type": "code",
      "source": [
        "torch.cuda.is_available()"
      ],
      "metadata": {
        "id": "B8Rl-9km-kzc",
        "outputId": "ca40aaf5-8f8c-4bf6-e004-aba1a036424d",
        "colab": {
          "base_uri": "https://localhost:8080/"
        }
      },
      "execution_count": 9,
      "outputs": [
        {
          "output_type": "execute_result",
          "data": {
            "text/plain": [
              "False"
            ]
          },
          "metadata": {},
          "execution_count": 9
        }
      ]
    },
    {
      "cell_type": "markdown",
      "metadata": {
        "id": "u4bZWNpL6mkP"
      },
      "source": [
        "### Additional Exercises Solution"
      ]
    },
    {
      "cell_type": "code",
      "execution_count": null,
      "metadata": {
        "id": "A8VYoni76mkQ"
      },
      "outputs": [],
      "source": []
    },
    {
      "cell_type": "markdown",
      "metadata": {
        "id": "gV4EZHbg6mkR"
      },
      "source": [
        "**NOTE: NOT TO BE INCLUDED IN SUBMISSION FILE**\\\n",
        "HOW TO SUBMIT NOTES:\n",
        "1. Clone the repository\n",
        "```bash\n",
        "git clone https://github.com/arewadataScience/ArewaDS-Deep-Learning.git\n",
        "```\n",
        "2. Save each week's notebooks in this subfolder `exercise_submissions`\n",
        "3. Use the naming convension `week_{num}_solution.ipynb` e.g. `week_1_solution.ipynb`\n",
        "4. Please, make sure all the clear runs without errors and keep cell outputs before submission.\n",
        "\n",
        "\n",
        "SUBMIT ASSIGNMENT HERE: [CLICK ME ▶️](https://forms.gle/876vi4aNoFf4A2mU7)"
      ]
    }
  ],
  "metadata": {
    "language_info": {
      "name": "python"
    },
    "colab": {
      "provenance": [],
      "include_colab_link": true
    },
    "kernelspec": {
      "name": "python3",
      "display_name": "Python 3"
    }
  },
  "nbformat": 4,
  "nbformat_minor": 0
}