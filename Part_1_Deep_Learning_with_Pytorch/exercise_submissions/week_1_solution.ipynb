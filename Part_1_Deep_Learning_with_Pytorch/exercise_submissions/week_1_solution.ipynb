{
  "cells": [
    {
      "cell_type": "markdown",
      "metadata": {
        "id": "view-in-github",
        "colab_type": "text"
      },
      "source": [
        "<a href=\"https://colab.research.google.com/github/scilove/ArewaDeepLearning/blob/main/Part_1_Deep_Learning_with_Pytorch/exercise_submissions/week_1_solution.ipynb\" target=\"_parent\"><img src=\"https://colab.research.google.com/assets/colab-badge.svg\" alt=\"Open In Colab\"/></a>"
      ]
    },
    {
      "cell_type": "markdown",
      "metadata": {
        "id": "Wg2DjcT-6mkF"
      },
      "source": [
        "## Arewa Data Science Academy\n",
        "### Deep Learning Cohort 2.0\n",
        "\n",
        "#### Name: Muyiwa Obadara\n",
        "#### Email: muyiwa.j.obadara@gmail.com\n",
        "#### Title: Week 1 Solution"
      ]
    },
    {
      "cell_type": "markdown",
      "metadata": {
        "id": "ComswgXs6mkK"
      },
      "source": [
        "### Exercises Solution"
      ]
    },
    {
      "cell_type": "code",
      "source": [
        "import torch"
      ],
      "metadata": {
        "id": "veszfKj87NRi"
      },
      "execution_count": 1,
      "outputs": []
    },
    {
      "cell_type": "markdown",
      "source": [
        "#### 2. Create a random tensor with shape (7, 7)"
      ],
      "metadata": {
        "id": "csIWhQdZ7arD"
      }
    },
    {
      "cell_type": "code",
      "execution_count": 2,
      "metadata": {
        "id": "YLyiHPyT6mkM"
      },
      "outputs": [],
      "source": [
        "# Exercise 2 - Solution\n",
        "t_rand = torch.rand(7, 7)"
      ]
    },
    {
      "cell_type": "markdown",
      "metadata": {
        "id": "u4bZWNpL6mkP"
      },
      "source": [
        "### Additional Exercises Solution"
      ]
    },
    {
      "cell_type": "code",
      "execution_count": null,
      "metadata": {
        "id": "A8VYoni76mkQ"
      },
      "outputs": [],
      "source": []
    },
    {
      "cell_type": "markdown",
      "metadata": {
        "id": "gV4EZHbg6mkR"
      },
      "source": [
        "**NOTE: NOT TO BE INCLUDED IN SUBMISSION FILE**\\\n",
        "HOW TO SUBMIT NOTES:\n",
        "1. Clone the repository\n",
        "```bash\n",
        "git clone https://github.com/arewadataScience/ArewaDS-Deep-Learning.git\n",
        "```\n",
        "2. Save each week's notebooks in this subfolder `exercise_submissions`\n",
        "3. Use the naming convension `week_{num}_solution.ipynb` e.g. `week_1_solution.ipynb`\n",
        "4. Please, make sure all the clear runs without errors and keep cell outputs before submission.\n",
        "\n",
        "\n",
        "SUBMIT ASSIGNMENT HERE: [CLICK ME ▶️](https://forms.gle/876vi4aNoFf4A2mU7)"
      ]
    }
  ],
  "metadata": {
    "language_info": {
      "name": "python"
    },
    "colab": {
      "provenance": [],
      "include_colab_link": true
    },
    "kernelspec": {
      "name": "python3",
      "display_name": "Python 3"
    }
  },
  "nbformat": 4,
  "nbformat_minor": 0
}