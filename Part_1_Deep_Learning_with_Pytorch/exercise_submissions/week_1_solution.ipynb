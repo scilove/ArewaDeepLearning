{
  "cells": [
    {
      "cell_type": "markdown",
      "metadata": {
        "id": "view-in-github",
        "colab_type": "text"
      },
      "source": [
        "<a href=\"https://colab.research.google.com/github/scilove/ArewaDeepLearning/blob/main/Part_1_Deep_Learning_with_Pytorch/exercise_submissions/week_1_solution.ipynb\" target=\"_parent\"><img src=\"https://colab.research.google.com/assets/colab-badge.svg\" alt=\"Open In Colab\"/></a>"
      ]
    },
    {
      "cell_type": "markdown",
      "metadata": {
        "id": "Wg2DjcT-6mkF"
      },
      "source": [
        "## Arewa Data Science Academy\n",
        "### Deep Learning Cohort 2.0\n",
        "\n",
        "#### Name: Muyiwa Obadara\n",
        "#### Email: muyiwa.j.obadara@gmail.com\n",
        "#### Title: Week 1 Solution"
      ]
    },
    {
      "cell_type": "markdown",
      "metadata": {
        "id": "ComswgXs6mkK"
      },
      "source": [
        "### Exercises Solution"
      ]
    },
    {
      "cell_type": "code",
      "source": [
        "import torch"
      ],
      "metadata": {
        "id": "veszfKj87NRi"
      },
      "execution_count": 18,
      "outputs": []
    },
    {
      "cell_type": "markdown",
      "source": [
        "#### 2. Create a random tensor with shape (7, 7)"
      ],
      "metadata": {
        "id": "csIWhQdZ7arD"
      }
    },
    {
      "cell_type": "code",
      "execution_count": 19,
      "metadata": {
        "colab": {
          "base_uri": "https://localhost:8080/"
        },
        "id": "YLyiHPyT6mkM",
        "outputId": "2ef179c4-121c-457f-fb74-ead31f2f30ea"
      },
      "outputs": [
        {
          "output_type": "stream",
          "name": "stdout",
          "text": [
            "tensor([[0.8549, 0.5509, 0.2868, 0.2063, 0.4451, 0.3593, 0.7204],\n",
            "        [0.0731, 0.9699, 0.1078, 0.8829, 0.4132, 0.7572, 0.6948],\n",
            "        [0.5209, 0.5932, 0.8797, 0.6286, 0.7653, 0.1132, 0.8559],\n",
            "        [0.6721, 0.6267, 0.5691, 0.7437, 0.9592, 0.3887, 0.2214],\n",
            "        [0.3742, 0.1953, 0.7405, 0.2529, 0.2332, 0.9314, 0.9575],\n",
            "        [0.5575, 0.4134, 0.4355, 0.7369, 0.0331, 0.0914, 0.8994],\n",
            "        [0.9936, 0.4703, 0.1049, 0.5137, 0.2674, 0.4990, 0.7447]])\n"
          ]
        }
      ],
      "source": [
        "# Exercise 2 - Solution\n",
        "t_rand = torch.rand(7, 7)\n",
        "print(t_rand)"
      ]
    },
    {
      "cell_type": "markdown",
      "source": [
        "#### 3. Perform a matrix multiplication on the tensor from 2 with another random tensor with shape (1, 7) (hint: you may have to transpose the second tensor)."
      ],
      "metadata": {
        "id": "B_6YahEM8a6w"
      }
    },
    {
      "cell_type": "code",
      "source": [
        "# Create another random tensor\n",
        "t_rand2 = torch.rand(1, 7)\n",
        "\n",
        "# Perform matrix multiplication\n",
        "prod = torch.matmul(t_rand, t_rand2.T)\n",
        "print(prod)"
      ],
      "metadata": {
        "colab": {
          "base_uri": "https://localhost:8080/"
        },
        "id": "zpWz5bXh8nNM",
        "outputId": "9549667b-c159-4a78-ddb0-c66858763be1"
      },
      "execution_count": 20,
      "outputs": [
        {
          "output_type": "stream",
          "name": "stdout",
          "text": [
            "tensor([[1.6914],\n",
            "        [1.7581],\n",
            "        [2.0906],\n",
            "        [1.8975],\n",
            "        [1.7585],\n",
            "        [1.7961],\n",
            "        [1.8900]])\n"
          ]
        }
      ]
    },
    {
      "cell_type": "markdown",
      "source": [
        "#### 4. Set the random seed to 0 and do 2 & 3 over again."
      ],
      "metadata": {
        "id": "7YKpvCV29JPg"
      }
    },
    {
      "cell_type": "code",
      "source": [
        "# Set the manual seed\n",
        "torch.manual_seed(0)\n",
        "\n",
        "# Create two random tensors\n",
        "t_rand = torch.rand(7, 7)\n",
        "t_rand2 = torch.rand(1, 7)\n",
        "\n",
        "# Matrix multiply tensor\n",
        "prod = torch.matmul(t_rand, t_rand2.T)\n",
        "print(prod)"
      ],
      "metadata": {
        "colab": {
          "base_uri": "https://localhost:8080/"
        },
        "id": "VaodVkZx9jRg",
        "outputId": "f1fc6f92-3bbb-46a5-d6fc-81839bf299df"
      },
      "execution_count": 21,
      "outputs": [
        {
          "output_type": "stream",
          "name": "stdout",
          "text": [
            "tensor([[1.8542],\n",
            "        [1.9611],\n",
            "        [2.2884],\n",
            "        [3.0481],\n",
            "        [1.7067],\n",
            "        [2.5290],\n",
            "        [1.7989]])\n"
          ]
        }
      ]
    },
    {
      "cell_type": "markdown",
      "source": [
        "#### 5. Speaking of random seeds, we saw how to set it with `torch.manual_seed()` but is there a GPU equivalent? (hint: you'll need to look into the documentation for torch.cuda for this one)\n",
        "\n",
        "- If there is, set the GPU random seed to 1234."
      ],
      "metadata": {
        "id": "G66z7VPu-Bv9"
      }
    },
    {
      "cell_type": "code",
      "source": [
        "torch.cuda.manual_seed(1234)"
      ],
      "metadata": {
        "id": "B8Rl-9km-kzc"
      },
      "execution_count": 22,
      "outputs": []
    },
    {
      "cell_type": "markdown",
      "source": [
        "#### 6. Create two random tensors of shape (2, 3) and send them both to the GPU (you'll need access to a GPU for this). Set torch.manual_seed(1234) when creating the tensors (this doesn't have to be the GPU random seed)."
      ],
      "metadata": {
        "id": "ad6BxMccAlL-"
      }
    },
    {
      "cell_type": "code",
      "source": [
        "# Set random seed\n",
        "torch.manual_seed(1234)\n",
        "\n",
        "# Check for access to gpu\n",
        "\n",
        "device = \"cuda\" if torch.cuda.is_available() else \"cpu\"\n",
        "print(f\"Device: {device}\")\n",
        "\n",
        "# Create random tensor on gpu\n",
        "t1 = torch.rand(2, 3)\n",
        "t2 = torch.rand(2, 3)\n",
        "\n",
        "t1 = t1.to('cuda')\n",
        "t2 = t2.to('cuda')\n",
        "\n",
        "print(t1)\n",
        "print(t2)"
      ],
      "metadata": {
        "colab": {
          "base_uri": "https://localhost:8080/"
        },
        "id": "aFWDOStEA1XA",
        "outputId": "b490bdc7-f9e6-495d-9900-e678241ebceb"
      },
      "execution_count": 23,
      "outputs": [
        {
          "output_type": "stream",
          "name": "stdout",
          "text": [
            "Device: cuda\n",
            "tensor([[0.0290, 0.4019, 0.2598],\n",
            "        [0.3666, 0.0583, 0.7006]], device='cuda:0')\n",
            "tensor([[0.0518, 0.4681, 0.6738],\n",
            "        [0.3315, 0.7837, 0.5631]], device='cuda:0')\n"
          ]
        }
      ]
    },
    {
      "cell_type": "markdown",
      "source": [
        "#### 7. Perform a matrix multiplication on the tensors you created in 6 (again, you may have to adjust the shapes of one of the tensors)."
      ],
      "metadata": {
        "id": "ECJXjrhdBzpt"
      }
    },
    {
      "cell_type": "code",
      "source": [
        "prod = torch.matmul(t1, t2.T)\n",
        "print(prod)"
      ],
      "metadata": {
        "colab": {
          "base_uri": "https://localhost:8080/"
        },
        "id": "GVA-gGY4B3PY",
        "outputId": "c30a665d-82a0-4a46-8294-7c709fc9cec0"
      },
      "execution_count": 24,
      "outputs": [
        {
          "output_type": "stream",
          "name": "stdout",
          "text": [
            "tensor([[0.3647, 0.4709],\n",
            "        [0.5184, 0.5617]], device='cuda:0')\n"
          ]
        }
      ]
    },
    {
      "cell_type": "markdown",
      "source": [
        "#### 8. Find the maximum and minimum values of the output of 7."
      ],
      "metadata": {
        "id": "tPeCtIxYCG-T"
      }
    },
    {
      "cell_type": "code",
      "source": [
        "# Find max\n",
        "max = prod.max()\n",
        "print(f\"Max: {max}\")\n",
        "\n",
        "# Find min\n",
        "min = prod.min()\n",
        "print(f\"Min: {min}\")"
      ],
      "metadata": {
        "colab": {
          "base_uri": "https://localhost:8080/"
        },
        "id": "z0e3iQvTCLrJ",
        "outputId": "bce2a448-4417-41cc-db0b-4d9ff2ff06c3"
      },
      "execution_count": 25,
      "outputs": [
        {
          "output_type": "stream",
          "name": "stdout",
          "text": [
            "Max: 0.5617256760597229\n",
            "Min: 0.3647301495075226\n"
          ]
        }
      ]
    },
    {
      "cell_type": "markdown",
      "source": [
        "#### 9. Find the maximum and minimum index values of the output of 7."
      ],
      "metadata": {
        "id": "RpJdZFcUCe6W"
      }
    },
    {
      "cell_type": "code",
      "source": [
        "# Find arg max\n",
        "\n",
        "arg_max = prod.argmax()\n",
        "print(f\"Arg Max: {arg_max}\")\n",
        "\n",
        "# Find arg min\n",
        "arg_min = prod.argmin()\n",
        "print(f\"Arg Min: {arg_min}\")"
      ],
      "metadata": {
        "colab": {
          "base_uri": "https://localhost:8080/"
        },
        "id": "y3caH25lClWL",
        "outputId": "bdbc276d-58fb-4d78-c8a6-d02967dc9e72"
      },
      "execution_count": 26,
      "outputs": [
        {
          "output_type": "stream",
          "name": "stdout",
          "text": [
            "Arg Max: 3\n",
            "Arg Min: 0\n"
          ]
        }
      ]
    },
    {
      "cell_type": "markdown",
      "source": [
        "#### 10. Make a random tensor with shape (1, 1, 1, 10) and then create a new tensor with all the 1 dimensions removed to be left with a tensor of shape (10). Set the seed to 7 when you create it and print out the first tensor and it's shape as well as the second tensor and it's shape."
      ],
      "metadata": {
        "id": "MKbbnDf0CvZJ"
      }
    },
    {
      "cell_type": "code",
      "source": [
        "# Set seed\n",
        "torch.manual_seed(7)\n",
        "\n",
        "# Create random tensor\n",
        "t = torch.rand(1, 1, 1, 10)\n",
        "\n",
        "# Remove single dimensions\n",
        "t_squeeze = t.squeeze()\n",
        "\n",
        "# Print out tensors and their shapes\n",
        "print(\"-\"*80)\n",
        "print(f\"Tensor: {t}\")\n",
        "print(f\"Tensor shape: {t.shape}\")\n",
        "print(\"-\"*80)\n",
        "print(f\"Squeezed Tensor: {t_squeeze}\")\n",
        "print(f\"Squeezed Tensor shape: {t_squeeze.shape}\")\n",
        "print(\"-\"*80)"
      ],
      "metadata": {
        "colab": {
          "base_uri": "https://localhost:8080/"
        },
        "id": "28a8o7ZWD1Wi",
        "outputId": "c53affb9-40d0-4515-9ac9-2c226defbed2"
      },
      "execution_count": 29,
      "outputs": [
        {
          "output_type": "stream",
          "name": "stdout",
          "text": [
            "--------------------------------------------------------------------------------\n",
            "Tensor: tensor([[[[0.5349, 0.1988, 0.6592, 0.6569, 0.2328, 0.4251, 0.2071, 0.6297,\n",
            "           0.3653, 0.8513]]]])\n",
            "Tensor shape: torch.Size([1, 1, 1, 10])\n",
            "--------------------------------------------------------------------------------\n",
            "Squeezed Tensor: tensor([0.5349, 0.1988, 0.6592, 0.6569, 0.2328, 0.4251, 0.2071, 0.6297, 0.3653,\n",
            "        0.8513])\n",
            "Squeezed Tensor shape: torch.Size([10])\n",
            "--------------------------------------------------------------------------------\n"
          ]
        }
      ]
    },
    {
      "cell_type": "code",
      "source": [],
      "metadata": {
        "id": "uCCpOqVhE4nx"
      },
      "execution_count": null,
      "outputs": []
    }
  ],
  "metadata": {
    "language_info": {
      "name": "python"
    },
    "colab": {
      "provenance": [],
      "gpuType": "T4",
      "include_colab_link": true
    },
    "kernelspec": {
      "name": "python3",
      "display_name": "Python 3"
    },
    "accelerator": "GPU"
  },
  "nbformat": 4,
  "nbformat_minor": 0
}