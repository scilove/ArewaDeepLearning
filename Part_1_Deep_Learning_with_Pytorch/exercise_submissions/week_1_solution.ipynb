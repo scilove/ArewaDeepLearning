{
  "cells": [
    {
      "cell_type": "markdown",
      "metadata": {
        "id": "view-in-github",
        "colab_type": "text"
      },
      "source": [
        "<a href=\"https://colab.research.google.com/github/scilove/ArewaDeepLearning/blob/main/Part_1_Deep_Learning_with_Pytorch/exercise_submissions/week_1_solution.ipynb\" target=\"_parent\"><img src=\"https://colab.research.google.com/assets/colab-badge.svg\" alt=\"Open In Colab\"/></a>"
      ]
    },
    {
      "cell_type": "markdown",
      "metadata": {
        "id": "Wg2DjcT-6mkF"
      },
      "source": [
        "## Arewa Data Science Academy\n",
        "### Deep Learning Cohort 2.0\n",
        "\n",
        "#### Name: Muyiwa Obadara\n",
        "#### Email: muyiwa.j.obadara@gmail.com\n",
        "#### Title: Week 1 Solution"
      ]
    },
    {
      "cell_type": "markdown",
      "metadata": {
        "id": "ComswgXs6mkK"
      },
      "source": [
        "### Exercises Solution"
      ]
    },
    {
      "cell_type": "code",
      "source": [
        "import torch"
      ],
      "metadata": {
        "id": "veszfKj87NRi"
      },
      "execution_count": 1,
      "outputs": []
    },
    {
      "cell_type": "markdown",
      "source": [
        "#### 2. Create a random tensor with shape (7, 7)"
      ],
      "metadata": {
        "id": "csIWhQdZ7arD"
      }
    },
    {
      "cell_type": "code",
      "execution_count": 2,
      "metadata": {
        "colab": {
          "base_uri": "https://localhost:8080/"
        },
        "id": "YLyiHPyT6mkM",
        "outputId": "986dec68-a18d-4467-8c0c-8c30320e4c75"
      },
      "outputs": [
        {
          "output_type": "stream",
          "name": "stdout",
          "text": [
            "tensor([[0.4898, 0.3374, 0.3597, 0.2691, 0.1488, 0.0715, 0.0174],\n",
            "        [0.2639, 0.4794, 0.4212, 0.0764, 0.2333, 0.3951, 0.3069],\n",
            "        [0.7980, 0.4837, 0.0770, 0.0762, 0.1509, 0.8066, 0.6526],\n",
            "        [0.6127, 0.5003, 0.2290, 0.3308, 0.7479, 0.0914, 0.9308],\n",
            "        [0.2474, 0.9285, 0.8184, 0.6988, 0.6167, 0.9740, 0.9510],\n",
            "        [0.2394, 0.5294, 0.7579, 0.9331, 0.4313, 0.5140, 0.2965],\n",
            "        [0.2710, 0.5495, 0.2529, 0.5050, 0.0862, 0.4608, 0.1793]])\n"
          ]
        }
      ],
      "source": [
        "# Exercise 2 - Solution\n",
        "t_rand = torch.rand(7, 7)\n",
        "print(t_rand)"
      ]
    },
    {
      "cell_type": "markdown",
      "source": [
        "#### 3. Perform a matrix multiplication on the tensor from 2 with another random tensor with shape (1, 7) (hint: you may have to transpose the second tensor)."
      ],
      "metadata": {
        "id": "B_6YahEM8a6w"
      }
    },
    {
      "cell_type": "code",
      "source": [
        "# Create another random tensor\n",
        "t_rand2 = torch.rand(1, 7)\n",
        "\n",
        "# Perform matrix multiplication\n",
        "prod = torch.matmul(t_rand, t_rand2.T)\n",
        "print(prod)"
      ],
      "metadata": {
        "colab": {
          "base_uri": "https://localhost:8080/"
        },
        "id": "zpWz5bXh8nNM",
        "outputId": "8c000e6f-d86a-4c68-d9a6-d469e87aaf7a"
      },
      "execution_count": 3,
      "outputs": [
        {
          "output_type": "stream",
          "name": "stdout",
          "text": [
            "tensor([[0.4266],\n",
            "        [0.5884],\n",
            "        [0.5676],\n",
            "        [0.6950],\n",
            "        [1.3171],\n",
            "        [0.9350],\n",
            "        [0.5473]])\n"
          ]
        }
      ]
    },
    {
      "cell_type": "markdown",
      "source": [
        "#### 4. Set the random seed to 0 and do 2 & 3 over again."
      ],
      "metadata": {
        "id": "7YKpvCV29JPg"
      }
    },
    {
      "cell_type": "code",
      "source": [
        "# Set the manual seed\n",
        "torch.manual_seed(0)\n",
        "\n",
        "# Create two random tensors\n",
        "t_rand = torch.rand(7, 7)\n",
        "t_rand2 = torch.rand(1, 7)\n",
        "\n",
        "# Matrix multiply tensor\n",
        "prod = torch.matmul(t_rand, t_rand2.T)\n",
        "print(prod)"
      ],
      "metadata": {
        "colab": {
          "base_uri": "https://localhost:8080/"
        },
        "id": "VaodVkZx9jRg",
        "outputId": "710c328d-75a8-4e28-a80f-5edf7388d5c3"
      },
      "execution_count": 4,
      "outputs": [
        {
          "output_type": "stream",
          "name": "stdout",
          "text": [
            "tensor([[1.8542],\n",
            "        [1.9611],\n",
            "        [2.2884],\n",
            "        [3.0481],\n",
            "        [1.7067],\n",
            "        [2.5290],\n",
            "        [1.7989]])\n"
          ]
        }
      ]
    },
    {
      "cell_type": "markdown",
      "source": [
        "#### 5. Speaking of random seeds, we saw how to set it with `torch.manual_seed()` but is there a GPU equivalent? (hint: you'll need to look into the documentation for torch.cuda for this one)\n",
        "\n",
        "- If there is, set the GPU random seed to 1234."
      ],
      "metadata": {
        "id": "G66z7VPu-Bv9"
      }
    },
    {
      "cell_type": "code",
      "source": [
        "torch.cuda.manual_seed(1234)"
      ],
      "metadata": {
        "id": "B8Rl-9km-kzc"
      },
      "execution_count": 8,
      "outputs": []
    },
    {
      "cell_type": "markdown",
      "source": [
        "#### 6. Create two random tensors of shape (2, 3) and send them both to the GPU (you'll need access to a GPU for this). Set torch.manual_seed(1234) when creating the tensors (this doesn't have to be the GPU random seed)."
      ],
      "metadata": {
        "id": "ad6BxMccAlL-"
      }
    },
    {
      "cell_type": "code",
      "source": [
        "# Set random seed\n",
        "torch.manual_seed(1234)\n",
        "\n",
        "# Check for access to gpu\n",
        "\n",
        "device = \"cuda\" if torch.cuda.is_available() else \"cpu\"\n",
        "print(f\"Device: {device}\")\n",
        "\n",
        "# Create random tensor on gpu\n",
        "t1 = torch.rand(2, 3)\n",
        "t2 = torch.rand(2, 3)\n",
        "\n",
        "t1 = t1.to('cuda')\n",
        "t2 = t2.to('cuda')\n",
        "\n",
        "print(t1)\n",
        "print(t2)"
      ],
      "metadata": {
        "id": "aFWDOStEA1XA",
        "outputId": "9f3d59a1-9d65-4aa9-a04a-f6e12894d09e",
        "colab": {
          "base_uri": "https://localhost:8080/"
        }
      },
      "execution_count": 11,
      "outputs": [
        {
          "output_type": "stream",
          "name": "stdout",
          "text": [
            "Device: cuda\n",
            "tensor([[0.0290, 0.4019, 0.2598],\n",
            "        [0.3666, 0.0583, 0.7006]], device='cuda:0')\n",
            "tensor([[0.0518, 0.4681, 0.6738],\n",
            "        [0.3315, 0.7837, 0.5631]], device='cuda:0')\n"
          ]
        }
      ]
    },
    {
      "cell_type": "markdown",
      "source": [
        "#### 7. Perform a matrix multiplication on the tensors you created in 6 (again, you may have to adjust the shapes of one of the tensors)."
      ],
      "metadata": {
        "id": "ECJXjrhdBzpt"
      }
    },
    {
      "cell_type": "code",
      "source": [
        "prod = torch.matmul(t1, t2.T)\n",
        "print(prod)"
      ],
      "metadata": {
        "id": "GVA-gGY4B3PY",
        "outputId": "b29ace5d-57d3-47a2-da9e-8f6a035d32d7",
        "colab": {
          "base_uri": "https://localhost:8080/"
        }
      },
      "execution_count": 12,
      "outputs": [
        {
          "output_type": "stream",
          "name": "stdout",
          "text": [
            "tensor([[0.3647, 0.4709],\n",
            "        [0.5184, 0.5617]], device='cuda:0')\n"
          ]
        }
      ]
    },
    {
      "cell_type": "markdown",
      "source": [
        "#### 8. Find the maximum and minimum values of the output of 7."
      ],
      "metadata": {
        "id": "tPeCtIxYCG-T"
      }
    },
    {
      "cell_type": "code",
      "source": [
        "# Find max\n",
        "max = prod.max()\n",
        "print(f\"Max: {max}\")\n",
        "\n",
        "# Find min\n",
        "min = prod.min()\n",
        "print(f\"Min: {min}\")"
      ],
      "metadata": {
        "id": "z0e3iQvTCLrJ",
        "outputId": "95193544-a0cb-440f-912a-c18501186bc3",
        "colab": {
          "base_uri": "https://localhost:8080/"
        }
      },
      "execution_count": 13,
      "outputs": [
        {
          "output_type": "stream",
          "name": "stdout",
          "text": [
            "Max: 0.5617256760597229\n",
            "Min: 0.3647301495075226\n"
          ]
        }
      ]
    },
    {
      "cell_type": "markdown",
      "source": [
        "#### 9. Find the maximum and minimum index values of the output of 7."
      ],
      "metadata": {
        "id": "RpJdZFcUCe6W"
      }
    },
    {
      "cell_type": "code",
      "source": [
        "# Find arg max\n",
        "\n",
        "arg_max = prod.argmax()\n",
        "print(f\"Arg Max: {arg_max}\")\n",
        "\n",
        "# Find arg min\n",
        "arg_min = prod.argmin()\n",
        "print(f\"Arg Min: {arg_min}\")"
      ],
      "metadata": {
        "id": "y3caH25lClWL",
        "outputId": "1e7389e5-4d9e-4e7f-b1c4-a21629150414",
        "colab": {
          "base_uri": "https://localhost:8080/"
        }
      },
      "execution_count": 14,
      "outputs": [
        {
          "output_type": "stream",
          "name": "stdout",
          "text": [
            "Arg Max: 3\n",
            "Arg Min: 0\n"
          ]
        }
      ]
    },
    {
      "cell_type": "markdown",
      "source": [
        "#### 10. Make a random tensor with shape (1, 1, 1, 10) and then create a new tensor with all the 1 dimensions removed to be left with a tensor of shape (10). Set the seed to 7 when you create it and print out the first tensor and it's shape as well as the second tensor and it's shape."
      ],
      "metadata": {
        "id": "MKbbnDf0CvZJ"
      }
    },
    {
      "cell_type": "code",
      "source": [
        "# Set seed\n",
        "torch.manual_seed(7)\n",
        "\n",
        "# Create random tensor\n",
        "t = torch.rand(1, 1, 1, 10)\n",
        "\n",
        "# Remove single dimensions\n",
        "t_squeeze = t.squeeze()\n",
        "\n",
        "# Print out tensors and their shapes\n",
        "print(\"-\"*30)\n",
        "print(f\"Tensor: {t}\")\n",
        "print(f\"Tensor shape: {t.shape}\")\n",
        "\n",
        "print(f\"Squeezed Tensor: {t_squeeze}\")\n",
        "print(f\"Squeezed Tensor shape: {t_squeeze.shape}\")"
      ],
      "metadata": {
        "id": "xCzXtCsrC3w2"
      },
      "execution_count": null,
      "outputs": []
    },
    {
      "cell_type": "code",
      "source": [
        "# Set seed\n",
        "torch.manual_seed(7)\n",
        "\n",
        "# Create random tensor\n",
        "t = torch.rand(1, 1, 1, 10)\n",
        "\n",
        "# Remove single dimensions\n",
        "t_squeeze = t.squeeze()\n",
        "\n",
        "# Print out tensors and their shapes\n",
        "print(\"-\"*130)\n",
        "print(f\"Tensor: {t}\")\n",
        "print(f\"Tensor shape: {t.shape}\")\n",
        "print(\"-\"*130)\n",
        "print(f\"Squeezed Tensor: {t_squeeze}\")\n",
        "print(f\"Squeezed Tensor shape: {t_squeeze.shape}\")\n",
        "print(\"-\"*130)"
      ],
      "metadata": {
        "id": "28a8o7ZWD1Wi",
        "outputId": "12d0496f-2a95-4bf8-c656-304e8b54cbcb",
        "colab": {
          "base_uri": "https://localhost:8080/"
        }
      },
      "execution_count": 17,
      "outputs": [
        {
          "output_type": "stream",
          "name": "stdout",
          "text": [
            "----------------------------------------------------------------------------------------------------------------------------------\n",
            "Tensor: tensor([[[[0.5349, 0.1988, 0.6592, 0.6569, 0.2328, 0.4251, 0.2071, 0.6297,\n",
            "           0.3653, 0.8513]]]])\n",
            "Tensor shape: torch.Size([1, 1, 1, 10])\n",
            "----------------------------------------------------------------------------------------------------------------------------------\n",
            "Squeezed Tensor: tensor([0.5349, 0.1988, 0.6592, 0.6569, 0.2328, 0.4251, 0.2071, 0.6297, 0.3653,\n",
            "        0.8513])\n",
            "Squeezed Tensor shape: torch.Size([10])\n",
            "----------------------------------------------------------------------------------------------------------------------------------\n"
          ]
        }
      ]
    }
  ],
  "metadata": {
    "language_info": {
      "name": "python"
    },
    "colab": {
      "provenance": [],
      "gpuType": "T4",
      "include_colab_link": true
    },
    "kernelspec": {
      "name": "python3",
      "display_name": "Python 3"
    },
    "accelerator": "GPU"
  },
  "nbformat": 4,
  "nbformat_minor": 0
}